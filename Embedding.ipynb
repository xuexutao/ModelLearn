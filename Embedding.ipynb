{
 "cells": [
  {
   "cell_type": "code",
   "execution_count": 9,
   "id": "554f7600",
   "metadata": {},
   "outputs": [],
   "source": [
    "import torch\n",
    "from torch import nn\n",
    "import torch.functional as F\n",
    "import math"
   ]
  },
  {
   "cell_type": "code",
   "execution_count": 10,
   "id": "ffddbbdd",
   "metadata": {},
   "outputs": [
    {
     "name": "stdout",
     "output_type": "stream",
     "text": [
      "torch.Size([128, 64, 512])\n"
     ]
    }
   ],
   "source": [
    "X = torch.randn(128, 64, 512) # Batch, Time, Dimension=d_model(embedding 后 词向量应该是多少维就是多少)\n",
    "print(X.shape)"
   ]
  },
  {
   "cell_type": "code",
   "execution_count": 11,
   "id": "72f7478a",
   "metadata": {},
   "outputs": [],
   "source": [
    "d_model = 512 # QKV应该是多少维度\n",
    "n_head = 8      # 有多少头"
   ]
  },
  {
   "cell_type": "code",
   "execution_count": 12,
   "id": "cc223b95",
   "metadata": {},
   "outputs": [],
   "source": [
    "class multi_head_attention(nn.Module):\n",
    "    def __init__(self, d_model, n_head):\n",
    "        super().__init__()\n",
    "\n",
    "        self.n_head = n_head\n",
    "        self.d_model = d_model\n",
    "        self.w_q = nn.Linear(d_model, d_model)\n",
    "        self.w_k = nn.Linear(d_model, d_model)\n",
    "        self.w_v = nn.Linear(d_model, d_model)\n",
    "        self.w_combine = nn.Linear(d_model, d_model) # multi_head 多写一个combine\n",
    "        self.softmax = nn.Softmax(dim = -1)\n",
    "\n",
    "    def forward(self, q, k, v, mask = None):\n",
    "        batch, time, dimension = q.shape\n",
    "\n",
    "        # 子qkv的维度，也就是长度\n",
    "        n_d = self.d_model // self.n_head\n",
    "        q, k, v = self.w_q(q), self.w_k(k), self.w_v(v)\n",
    "        q = q.view(batch, time, self.n_head, n_d).permute(0, 2, 1, 3)\n",
    "        k = k.view(batch, time, self.n_head, n_d).permute(0, 2, 1, 3)\n",
    "        v = v.view(batch, time, self.n_head, n_d).permute(0, 2, 1, 3)\n",
    "\n",
    "        score = q @ k.transpose(2, 3) / math.sqrt(n_d) \n",
    "        if mask is not None:\n",
    "            #mask = torch.tril(torch.ones(time, time, dtype=bool))\n",
    "            score = score.masked_fill(mask == 0, float('-inf'))# mask == 0的地方用-inf表示\n",
    "        score = self.softmax(score) @ v\n",
    "        score = score.permute(0, 2, 1, 3).contiguous().view(batch, time, dimension)\n",
    "        output = self.w_combine(score)\n",
    "        return output\n",
    "    \n",
    "attention = multi_head_attention(d_model=d_model, n_head=n_head)\n",
    "output = attention(X,X,X)\n",
    "\n",
    "# print(output, output.shape)\n"
   ]
  },
  {
   "cell_type": "code",
   "execution_count": 13,
   "id": "45705aa6",
   "metadata": {},
   "outputs": [
    {
     "data": {
      "text/plain": [
       "torch.Size([512, 512])"
      ]
     },
     "execution_count": 13,
     "metadata": {},
     "output_type": "execute_result"
    }
   ],
   "source": [
    "attention.w_q.weight.shape"
   ]
  },
  {
   "cell_type": "markdown",
   "id": "3622f171",
   "metadata": {},
   "source": [
    "# Token Embedding"
   ]
  },
  {
   "cell_type": "code",
   "execution_count": null,
   "id": "24aa7b8e",
   "metadata": {},
   "outputs": [],
   "source": [
    "class TokenEmbedding(nn.Embedding):\n",
    "    def __init__(self, vocab_size, d_model):\n",
    "        super().__init__(vocab_size, d_model, padding_idx=1)"
   ]
  },
  {
   "cell_type": "markdown",
   "id": "393b1cf0",
   "metadata": {},
   "source": [
    "# Position Embedding\n",
    "$$\n",
    "PE_{(pos, 2i)} = \\sin (\\frac{pos}{10000^{2i/ d_{model}}} ) \\\\\n",
    "PE_{(pos, 2i + 1)} = \\cos (\\frac{pos}{10000^{2i/ d_{model}}} )\n",
    "$$"
   ]
  },
  {
   "cell_type": "code",
   "execution_count": 6,
   "id": "374214c5",
   "metadata": {},
   "outputs": [],
   "source": [
    "class PositionalEmbedding(nn.Module):\n",
    "    def __init__(self, d_model, maxlen, device):\n",
    "        super().__init__()\n",
    "        # require \n",
    "        # TODO construction\n",
    "        self.encoding = torch.zeros(maxlen, d_model, device=device)\n",
    "        print(self.encoding.shape)\n",
    "        self.encoding.requires_grad_(False)\n",
    "        pos = torch.arange(0, maxlen, device=device)\n",
    "        pos = pos.float().unsqueeze(1)\n",
    "        print(pos.shape)\n",
    "        _2i = torch.arange(0, d_model, 2, device=device)\n",
    "\n",
    "        self.encoding[:, 0::2] = torch.sin(pos / 10000 ** (_2i / d_model) )\n",
    "        self.encoding[:, 1::2] = torch.cos(pos / 10000 ** (_2i / d_model) )\n",
    "\n",
    "    def forward(self, x):\n",
    "        seq_len = x.shape[1]\n",
    "        return self.encoding[:seq_len, :]\n",
    "        "
   ]
  },
  {
   "cell_type": "code",
   "execution_count": 7,
   "id": "94d9ca18",
   "metadata": {},
   "outputs": [
    {
     "name": "stdout",
     "output_type": "stream",
     "text": [
      "torch.Size([1000, 512])\n",
      "torch.Size([1000, 1])\n"
     ]
    }
   ],
   "source": [
    "positon = PositionalEmbedding(512, 1000, 'cpu')\n"
   ]
  },
  {
   "cell_type": "markdown",
   "id": "b28bc624",
   "metadata": {},
   "source": [
    "\n",
    "\n",
    "**归一化操作（如减去均值、除以标准差）会改变数据的分布，可能会丢失一些对模型有用的信息。**例如：\n",
    "- 某些特征的原始方差可能本身就很大，归一化后会被压缩，导致信息损失。\n",
    "- 模型可能需要保留数据中的某些特定分布特性。\n",
    "\n",
    "通过引入可学习的参数 $γ$ 和 $β$，模型可以根据数据的特性自动调整归一化后的表示：\n",
    "\n",
    "- $γ$可以放大或缩小特征的范围。初始化为全 1，即不改变归一化后的尺度。\n",
    "\n",
    "- $β$ 可以调整特征的中心位置。初始化为全 0，即不改变归一化后的偏移。"
   ]
  },
  {
   "cell_type": "code",
   "execution_count": null,
   "id": "59c23c2e",
   "metadata": {},
   "outputs": [],
   "source": []
  },
  {
   "cell_type": "code",
   "execution_count": null,
   "id": "0066e262",
   "metadata": {},
   "outputs": [],
   "source": [
    "class LayerNorm(nn.Module):\n",
    "    def __init__(self, d_model, eps = 1e10):\n",
    "        super().__init__()\n",
    "        self.gamma = nn.Parameter(torch.ones(d_model))\n",
    "        self.beta = nn.Parameter(torch.zeros(d_model))\n",
    "        self.eps = eps\n",
    "\n",
    "    def forward(self, x):\n",
    "        mean = x.mean(-1, keepdim = True)\n",
    "        var = x.var(-1, unbiased = False, keepdim = True)\n",
    "        out = (x - mean) / torch.sqrt(var + self.eps)\n",
    "        out = self.gamma * out + self.beta  \n",
    "        return out"
   ]
  },
  {
   "cell_type": "code",
   "execution_count": null,
   "id": "39af8b91",
   "metadata": {},
   "outputs": [],
   "source": []
  },
  {
   "cell_type": "markdown",
   "id": "bdc20205",
   "metadata": {},
   "source": [
    "FFN"
   ]
  },
  {
   "cell_type": "code",
   "execution_count": null,
   "id": "b267e625",
   "metadata": {},
   "outputs": [],
   "source": [
    "class PositionWiseForward(nn.Module):\n",
    "    def __init__(self,d_model, d_hidden, dropout = 0.1):\n",
    "        super().__init__()\n",
    "        self.fc1 = nn.Linear(d_model, d_hidden)\n",
    "        self.fc2 = nn.Linear(d_hidden, d_model)\n",
    "        self.droupout = nn.Dropout(dropout)\n",
    "\n",
    "    def forward(self, x):\n",
    "        x = F.relu(self.fc1(x))\n",
    "        x = self.droupout(x)\n",
    "        x = self.fc2(x)\n",
    "        return x"
   ]
  },
  {
   "cell_type": "code",
   "execution_count": null,
   "id": "740d3efc",
   "metadata": {},
   "outputs": [],
   "source": []
  },
  {
   "cell_type": "markdown",
   "id": "f68ddace",
   "metadata": {},
   "source": [
    "# Total Embedding"
   ]
  },
  {
   "cell_type": "code",
   "execution_count": null,
   "id": "eefbc711",
   "metadata": {},
   "outputs": [],
   "source": [
    "class TransformerEmbedding(nn.Module):\n",
    "    def __init__(self, vocab_size, d_model, max_len, drop_prob, device):\n",
    "        super().__init__()\n",
    "        self.tok_emb = TokenEmbedding(vocab_size, d_model)\n",
    "        self.pos_emb = PositionalEmbedding(d_model, max_len, device=device)\n",
    "        self.drop_out = nn.Dropout(drop_prob)\n",
    "\n",
    "    def forward(self, x):\n",
    "        tok_emb = self.tok_emb(x)\n",
    "        pos_emb = self.pos_emb(x)\n",
    "        return self.drop_out(tok_emb + pos_emb)"
   ]
  },
  {
   "cell_type": "code",
   "execution_count": 14,
   "id": "3deb20af",
   "metadata": {},
   "outputs": [],
   "source": [
    "# Encoder Layer"
   ]
  },
  {
   "cell_type": "code",
   "execution_count": null,
   "id": "a463edef",
   "metadata": {},
   "outputs": [],
   "source": [
    "class EmcoderLayer(nn.Module):\n",
    "    def __init__(self, d_model, ffn_hidden, n_head, drop_prob):\n",
    "        super().__init__()\n",
    "\n",
    "        self.attention = multi_head_attention(d_model, n_head)\n",
    "        self.norm1 = LayerNorm(d_model)\n",
    "        self.drop1 = nn.Dropout(drop_prob)\n",
    "        self.ffn = PositionWiseForward(d_model, ffn_hidden, drop_prob)\n",
    "        self.norm2 = LayerNorm(d_model)\n",
    "        self.drop2 = nn.Dropout(drop_prob)\n",
    "\n",
    "    def forward(self, x , mask = None):\n",
    "        _x = x # 为了残差连接\n",
    "        x = self.attention(x, x, x, mask)\n",
    "\n",
    "        x = self.drop1(x)\n",
    "        x = self.norm1(x + _x)\n",
    "\n",
    "        _x = x\n",
    "        x = self.ffn(x)\n",
    "        x = self.drop2(x)\n",
    "        x = self.norm2(x + _x)\n",
    "        return x\n",
    "\n"
   ]
  },
  {
   "cell_type": "code",
   "execution_count": null,
   "id": "b4b78a63",
   "metadata": {},
   "outputs": [],
   "source": []
  },
  {
   "cell_type": "code",
   "execution_count": null,
   "id": "e7c88341",
   "metadata": {},
   "outputs": [],
   "source": []
  },
  {
   "cell_type": "code",
   "execution_count": null,
   "id": "f9dc15a6",
   "metadata": {},
   "outputs": [],
   "source": []
  }
 ],
 "metadata": {
  "kernelspec": {
   "display_name": "xx",
   "language": "python",
   "name": "python3"
  },
  "language_info": {
   "codemirror_mode": {
    "name": "ipython",
    "version": 3
   },
   "file_extension": ".py",
   "mimetype": "text/x-python",
   "name": "python",
   "nbconvert_exporter": "python",
   "pygments_lexer": "ipython3",
   "version": "3.9.19"
  }
 },
 "nbformat": 4,
 "nbformat_minor": 5
}
